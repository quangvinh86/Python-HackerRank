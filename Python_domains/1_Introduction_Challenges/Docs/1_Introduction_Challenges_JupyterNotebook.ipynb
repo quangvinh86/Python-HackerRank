{
 "cells": [
  {
   "cell_type": "markdown",
   "metadata": {},
   "source": [
    "# [Ex2_ControlFlow](https://www.hackerrank.com/challenges/py-if-else/problem)\n",
    "\n",
    "Nhận đầu vào là một số nguyên n: 1 <= n <= 100\n",
    "Viết chương trình in ra màn hình:\n",
    "- Nếu n là số lẻ, in ra Weird\n",
    "- Nếu n là số chẵn và nằm trong khoảng 2 -5, in ra Not Weird\n",
    "- Nếu n là số chẵn và nằm trong khoảng 6 - 20, in ra Weird\n",
    "- Nếu n là số chẵn và lớn hơn 20, in ra Not Weird\n"
   ]
  },
  {
   "cell_type": "code",
   "execution_count": 1,
   "metadata": {
    "collapsed": true
   },
   "outputs": [],
   "source": [
    "def solve(input_data):\n",
    "    '''\n",
    "    ' params: number\n",
    "    ' rtype: string\n",
    "    '''\n",
    "    if input_data % 2 or 6 <= input_data <= 20:\n",
    "        return \"Weird\"\n",
    "    else:\n",
    "        return \"Not Weird\"\n"
   ]
  },
  {
   "cell_type": "code",
   "execution_count": 10,
   "metadata": {
    "collapsed": true
   },
   "outputs": [],
   "source": [
    "def main():\n",
    "    import random as rd\n",
    "    for input_number in [rd.randint(1,100) for _ in range(10)]:\n",
    "        print(input_number, solve(input_number))\n"
   ]
  },
  {
   "cell_type": "code",
   "execution_count": 11,
   "metadata": {},
   "outputs": [
    {
     "name": "stdout",
     "output_type": "stream",
     "text": [
      "35 Weird\n",
      "32 Not Weird\n",
      "89 Weird\n",
      "17 Weird\n",
      "63 Weird\n",
      "50 Not Weird\n",
      "7 Weird\n",
      "56 Not Weird\n",
      "73 Weird\n",
      "48 Not Weird\n"
     ]
    }
   ],
   "source": [
    "# test result\n",
    "main()"
   ]
  },
  {
   "cell_type": "markdown",
   "metadata": {},
   "source": [
    "# [Ex3_Arithmetic_Operators](https://www.hackerrank.com/challenges/python-arithmetic-operators/problem)\n",
    "\n",
    "Nhận đầu vào là 2 số tự nhiên và in ra 3 dòng với điều kiện:\n",
    "- Dòng thứ nhất chứa tổng của 2 số.\n",
    "- Dòng thứ hai chứa hiệu của 2 số (số thứ 1 trừ số thứ 2)\n",
    "- Dòng thứ ba chứa tích của hai số.\n"
   ]
  },
  {
   "cell_type": "code",
   "execution_count": 13,
   "metadata": {},
   "outputs": [],
   "source": [
    "def solve(first_input, second_input):\n",
    "    '''\n",
    "    ' params: two number\n",
    "    ' rtype: none\n",
    "    '''\n",
    "    print(first_input + second_input)\n",
    "    print(first_input - second_input)\n",
    "    print(first_input * second_input)\n",
    "    return None\n"
   ]
  },
  {
   "cell_type": "code",
   "execution_count": 14,
   "metadata": {
    "collapsed": true
   },
   "outputs": [],
   "source": [
    "def main():\n",
    "    first_input = 3\n",
    "    second_input = 2\n",
    "    solve(first_input, second_input)\n"
   ]
  },
  {
   "cell_type": "code",
   "execution_count": 15,
   "metadata": {},
   "outputs": [
    {
     "name": "stdout",
     "output_type": "stream",
     "text": [
      "5\n",
      "1\n",
      "6\n"
     ]
    }
   ],
   "source": [
    "main()"
   ]
  },
  {
   "cell_type": "markdown",
   "metadata": {},
   "source": [
    "# [ Ex4_Division](https://www.hackerrank.com/challenges/python-division/problem)\n",
    "\n",
    "Nhận đầu vào là 2 số tự nhiên và in ra hai dòng:\n",
    "- Dòng đầu là số nguyên của phép chia a//b\n",
    "- Dòng thứ hai là số thực của phép chia a/b\n",
    "\n",
    "Ghi chú: không làm tròn hoặc format lại số.\n"
   ]
  },
  {
   "cell_type": "code",
   "execution_count": 16,
   "metadata": {
    "collapsed": true
   },
   "outputs": [],
   "source": [
    "def solve(first_input, second_input):\n",
    "    '''\n",
    "    ' params: two number\n",
    "    ' rtype: none\n",
    "    '''\n",
    "    print(first_input // second_input)\n",
    "    print(first_input / second_input)\n",
    "    return None\n"
   ]
  },
  {
   "cell_type": "code",
   "execution_count": 17,
   "metadata": {
    "collapsed": true
   },
   "outputs": [],
   "source": [
    "def main():\n",
    "    first_input = 4\n",
    "    second_input = 3\n",
    "    solve(first_input, second_input)"
   ]
  },
  {
   "cell_type": "code",
   "execution_count": 18,
   "metadata": {},
   "outputs": [
    {
     "name": "stdout",
     "output_type": "stream",
     "text": [
      "1\n",
      "1.3333333333333333\n"
     ]
    }
   ],
   "source": [
    "main()\n"
   ]
  },
  {
   "cell_type": "markdown",
   "metadata": {},
   "source": [
    "# [Ex5_Loops](https://www.hackerrank.com/challenges/python-loops/problem)\n",
    "Nhận đầu vào là một số tự nhiên N ( 1<= N <= 20). i là các giá trị thỏa mãn 0 <= i < N.\n",
    "In ra màn hình các số bình phương của i. Mỗi số trên 1 dòng."
   ]
  },
  {
   "cell_type": "code",
   "execution_count": 19,
   "metadata": {
    "collapsed": true
   },
   "outputs": [],
   "source": [
    "\n",
    "def solve(input_number):\n",
    "    '''\n",
    "    ' params: number\n",
    "    ' rtype: none\n",
    "    '''\n",
    "    for index in range(input_number):\n",
    "        print(index ** 2)\n",
    "    return None\n",
    "\n"
   ]
  },
  {
   "cell_type": "code",
   "execution_count": 20,
   "metadata": {},
   "outputs": [
    {
     "name": "stdout",
     "output_type": "stream",
     "text": [
      "0\n",
      "1\n",
      "4\n",
      "9\n",
      "16\n"
     ]
    }
   ],
   "source": [
    "def main():\n",
    "    input_number = 5\n",
    "    solve(input_number)\n",
    "\n",
    "if __name__ == \"__main__\":\n",
    "    main()"
   ]
  },
  {
   "cell_type": "markdown",
   "metadata": {},
   "source": [
    "# [Ex6_Function](https://www.hackerrank.com/challenges/write-a-function/problem)\n",
    "Chúng ta thường có thêm một ngày 29/2 sau mỗi 4 năm. Ngày này gọi là ngày nhuận.\n",
    "Theo lịch Gregorian điều kiện để 1 năm có ngày nhuận như sau:\n",
    "- Một năm chia hết cho 4 sẽ là năm nhuận trừ trường hợp ngoại lệ:\n",
    "    - Nếu năm đó chia hết cho 100 nhưng không chia hết cho 400 thì không phải năm nhuận\n",
    "    - Nếu năm đó chia hết cho 100 và chia hết cho 400 thì là năm nhuận\n",
    "Ví dụ: \n",
    "Năm 1800, 1900, 2100, 2200, 2300 và 2500 không phải là năm nhuận vì chia hết cho 4 nhưng không chia hết cho 400\n",
    "Năm 2400, 2000 là năm nhuận vì chia hết cho 400.\n",
    "\n",
    "Viết một function nhận đầu vào là một năm, kiểm tra xem năm đó là năm nhuận hay không.\n"
   ]
  },
  {
   "cell_type": "code",
   "execution_count": 37,
   "metadata": {},
   "outputs": [],
   "source": [
    "def is_leap(year):\n",
    "    leap = False\n",
    "    if not year % 400:\n",
    "        leap = True\n",
    "    elif (not year % 4) and (year % 100):\n",
    "        leap = True\n",
    "    return leap"
   ]
  },
  {
   "cell_type": "code",
   "execution_count": 38,
   "metadata": {},
   "outputs": [
    {
     "name": "stdout",
     "output_type": "stream",
     "text": [
      "True\n",
      "False\n",
      "False\n",
      "True\n"
     ]
    }
   ],
   "source": [
    "\n",
    "def main():\n",
    "    print(is_leap(2000))\n",
    "    print(is_leap(1800))\n",
    "    print(is_leap(2100))\n",
    "    print(is_leap(1996))\n",
    "\n",
    "if __name__ == \"__main__\":\n",
    "    main()\n"
   ]
  },
  {
   "cell_type": "markdown",
   "metadata": {},
   "source": [
    "# [Ex7_Print_Function](https://www.hackerrank.com/challenges/python-print/problem)\n",
    "Nhận đầu vào là một số nguyên.\n",
    "In ra màn hình các số nguyên từ 1 đến N trên cùng một dòng.\n",
    "Ví dụ: N = 3 --> in ra màn hình 123\n",
    "\n"
   ]
  },
  {
   "cell_type": "code",
   "execution_count": 40,
   "metadata": {
    "collapsed": true
   },
   "outputs": [],
   "source": [
    "\n",
    "def print_number(input_number):\n",
    "    print(''.join([str(x) for x in range(1, input_number + 1)]))\n",
    "\n"
   ]
  },
  {
   "cell_type": "code",
   "execution_count": 41,
   "metadata": {},
   "outputs": [
    {
     "name": "stdout",
     "output_type": "stream",
     "text": [
      "12345678910\n"
     ]
    }
   ],
   "source": [
    "def main():\n",
    "    input_number = 10\n",
    "    print_number(input_number)\n",
    "\n",
    "\n",
    "if __name__ == \"__main__\":\n",
    "    main()"
   ]
  },
  {
   "cell_type": "code",
   "execution_count": null,
   "metadata": {
    "collapsed": true
   },
   "outputs": [],
   "source": []
  }
 ],
 "metadata": {
  "kernelspec": {
   "display_name": "Python 3",
   "language": "python",
   "name": "python3"
  },
  "language_info": {
   "codemirror_mode": {
    "name": "ipython",
    "version": 3
   },
   "file_extension": ".py",
   "mimetype": "text/x-python",
   "name": "python",
   "nbconvert_exporter": "python",
   "pygments_lexer": "ipython3",
   "version": "3.6.3"
  }
 },
 "nbformat": 4,
 "nbformat_minor": 2
}
