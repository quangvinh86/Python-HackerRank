{
 "cells": [
  {
   "cell_type": "markdown",
   "metadata": {},
   "source": [
    "Bài tập phần 5: Một vài thử thách sử dụng thư viện Math của Python. [Math-Challenges](https://www.hackerrank.com/domains/python/py-math) \n",
    "\n",
    "Ghi chú: Phần này nhiều hình ảnh vẽ các tam giác, mô tả công thức... Vì vậy chỉ dẫn link đến hackerrank\n",
    "# Math-Challenges\n",
    "\n"
   ]
  },
  {
   "cell_type": "markdown",
   "metadata": {},
   "source": [
    "## [Ex5_1 Polar Coordinates](https://www.hackerrank.com/challenges/polar-coordinates/problem)\n",
    "hình ảnh & mô tả xem tại link trên hackerrank.com: https://www.hackerrank.com/challenges/polar-coordinates/problem\n",
    "\n",
    "**Yêu cầu:**\n",
    "Cho số phức z = x + yj. Hãy chuyển số phức sang các tọa độ polar\n",
    "\n",
    "**Input Format**\n",
    "\n",
    "A single line containing the complex number . Note: complex() function can be used in python to convert the input as a complex number.\n",
    "\n",
    "**Constraints**\n",
    "\n",
    "Given number is a valid complex number\n",
    "\n",
    "**Output Format**\n",
    "\n",
    "Output two lines: \n",
    "The first line should contain the value of .r \n",
    "The second line should contain the value of Phi\n",
    "\n",
    "**Sample Input**\n",
    "```\n",
    "  1+2j\n",
    "\n",
    "```\n",
    "\n",
    "**Sample Output**\n",
    "\n",
    "```\n",
    " 2.23606797749979 \n",
    " 1.1071487177940904\n",
    "\n",
    "```\n",
    "\n",
    "**Note:** The output should be correct up to 3 decimal places.\n",
    "\n",
    "<hr>\n",
    "**Code:**\n"
   ]
  },
  {
   "cell_type": "code",
   "execution_count": 2,
   "metadata": {},
   "outputs": [
    {
     "name": "stdout",
     "output_type": "stream",
     "text": [
      "1+2j\n",
      "2.236\n",
      "1.107\n"
     ]
    }
   ],
   "source": [
    "import cmath\n",
    "\n",
    "def convert_polar_coordinates(complex_number):\n",
    "    print(\"{:.3f}\\n{:.3f}\".format(*cmath.polar(complex_number)))\n",
    "\n",
    "if __name__ == '__main__':\n",
    "    complex_number = complex(input())\n",
    "    convert_polar_coordinates(complex_number)\n"
   ]
  },
  {
   "cell_type": "markdown",
   "metadata": {},
   "source": [
    "## [Ex5_2: Find Angle MBC](https://www.hackerrank.com/challenges/find-angle/problem)\n",
    "Mô tả bài toán xem tại link: https://www.hackerrank.com/challenges/find-angle/problem\n",
    "\n",
    "**Yêu cầu:**\n",
    "\n",
    "Cho giá trị 2 cạnh vuồng AB, BC. M là trung điểm AC. Hãy tính góc MBC.\n",
    "\n",
    "**Sample Input**\n",
    "\n",
    "10\n",
    "10\n",
    "\n",
    "**Sample Output**\n",
    "\n",
    "45°\n",
    "\n",
    "<hr>\n",
    "**Code:**"
   ]
  },
  {
   "cell_type": "code",
   "execution_count": 5,
   "metadata": {},
   "outputs": [
    {
     "name": "stdout",
     "output_type": "stream",
     "text": [
      "10\n",
      "10\n",
      "45°\n"
     ]
    }
   ],
   "source": [
    "import math\n",
    "\n",
    "if __name__ == '__main__':\n",
    "    AB, BC = float(input()), float(input())\n",
    "    print(str(int(round(math.degrees(math.atan2(AB, BC)))))+'°')"
   ]
  },
  {
   "cell_type": "markdown",
   "metadata": {},
   "source": [
    "## [Ex5_3: Triangle Quest 2](https://www.hackerrank.com/challenges/triangle-quest-2/problem)\n",
    "Mô tả bài toán xem tại link:https://www.hackerrank.com/challenges/triangle-quest-2/problem\n",
    "\n",
    "Yêu cầu: In ra tam giác Pascal như yêu cầu\n",
    "\n",
    "**Input Format**\n",
    "\n",
    "A single line of input containing the 0 < integer < 10.\n",
    "\n",
    "\n",
    "**Output Format**\n",
    "\n",
    "Print the palindromic triangle of size  as explained above.\n",
    "\n",
    "**Sample Input**\n",
    "\n",
    "```\n",
    "5\n",
    "\n",
    "```\n",
    "\n",
    "**Sample Output**\n",
    "\n",
    "```\n",
    "1\n",
    "121\n",
    "12321\n",
    "1234321\n",
    "123454321\n",
    "\n",
    "```\n",
    "\n",
    "<hr>\n",
    "**Code**\n"
   ]
  },
  {
   "cell_type": "code",
   "execution_count": 6,
   "metadata": {},
   "outputs": [
    {
     "name": "stdout",
     "output_type": "stream",
     "text": [
      "5\n",
      "1\n",
      "121\n",
      "12321\n",
      "1234321\n",
      "123454321\n"
     ]
    }
   ],
   "source": [
    "if __name__ == '__main__':\n",
    "    for i in range(1, int(input()) + 1):\n",
    "        print(((10**i-1)//9)**2)\n",
    "    # print((''.join([str(index) for index in range(1,i+1)])).strip() + (''.join([str(jndex) for jndex in range(i-1, 0, -1)]).strip()))\n"
   ]
  },
  {
   "cell_type": "markdown",
   "metadata": {
    "collapsed": true
   },
   "source": [
    "\n",
    "## [Ex5_4: Mod Divmod](https://www.hackerrank.com/challenges/python-mod-divmod/problem) \n",
    "\n",
    "Yêu cầu: \n",
    "Đọc vào a, b (Mỗi số trên một dòng). In ra màn hình kết quả:\n",
    "\n",
    "Dòng 1: Phần nguyên a/b\n",
    "Dòng 2: Phần dư a%b\n",
    "Dòng 3: divmod(a,b)\n",
    "\n",
    "<hr>\n",
    "**Code:**\n"
   ]
  },
  {
   "cell_type": "code",
   "execution_count": 1,
   "metadata": {},
   "outputs": [
    {
     "name": "stdout",
     "output_type": "stream",
     "text": [
      "117\n",
      "10\n",
      "11\n",
      "7\n",
      "(11, 7)\n"
     ]
    }
   ],
   "source": [
    "def print_result(a, b):\n",
    "    print(a // b)\n",
    "    print(a % b)\n",
    "    print(divmod(a, b))\n",
    "\n",
    "if __name__ == '__main__':\n",
    "    a, b = int(input()), int(input()) \n",
    "    print_result(a, b)\n"
   ]
  },
  {
   "cell_type": "markdown",
   "metadata": {},
   "source": [
    "## [Ex5_5: Power - Mod Power](https://www.hackerrank.com/challenges/python-power-mod-power/problem)\n",
    "\n",
    "Yêu cầu:\n",
    "Đọc vào 3 số a,b,m (mỗi số trên một dòng). In ra màn hình kết quả:\n",
    "\n",
    "Dòng 1: pow(a,b)\n",
    "\n",
    "Dòng 2: pow(a,b,m)\n",
    "\n",
    "<hr>\n",
    "**Code**:\n"
   ]
  },
  {
   "cell_type": "code",
   "execution_count": 2,
   "metadata": {},
   "outputs": [
    {
     "name": "stdout",
     "output_type": "stream",
     "text": [
      "10\n",
      "17\n",
      "5\n",
      "100000000000000000\n",
      "0\n"
     ]
    }
   ],
   "source": [
    "#!/usr/bin/env python3\n",
    "\n",
    "def print_result(a, b, m):\n",
    "    print(pow(a, b))\n",
    "    print(pow(a, b, m))\n",
    "\n",
    "if __name__ == '__main__':\n",
    "    a, b, m = int(input()), int(input()), int(input())\n",
    "    print_result(a, b, m)\n"
   ]
  },
  {
   "cell_type": "markdown",
   "metadata": {},
   "source": [
    "## [Exx5_6: Integers Come In All Sizes](https://www.hackerrank.com/challenges/python-integers-come-in-all-sizes/problem)\n",
    "\n",
    "**Yêu cầu:**\n",
    "\n",
    "Đọc vào 4 số a, b, c, d  (mỗi số trên một dòng).\n",
    "\n",
    "Tính và in ra màn hình a ^ b + c ^ d\n",
    "\n",
    "**Sample Input**\n",
    "\n",
    "9\n",
    "29\n",
    "7\n",
    "27\n",
    "\n",
    "**Sample Output**\n",
    "\n",
    "4710194409608608369201743232  \n",
    "\n"
   ]
  },
  {
   "cell_type": "code",
   "execution_count": 3,
   "metadata": {},
   "outputs": [
    {
     "name": "stdout",
     "output_type": "stream",
     "text": [
      "10\n",
      "11\n",
      "12\n",
      "13\n",
      "107093205379072\n"
     ]
    }
   ],
   "source": [
    "def print_result(a, b, c, d):\n",
    "    print(pow(a, b) + pow(c, d))\n",
    "\n",
    "\n",
    "if __name__ == '__main__':\n",
    "    a, b, c, d = int(input()), int(input()), int(input()), int(input())\n",
    "    print_result(a, b, c, d)\n"
   ]
  },
  {
   "cell_type": "markdown",
   "metadata": {},
   "source": [
    "## [Ex5_7: Triangle Quest](https://www.hackerrank.com/challenges/python-quest-1/problem)\n",
    "\n",
    "**Yêu cầu**:\n",
    "\n",
    "In ra tam giác như yêu cầu\n",
    "\n",
    "**Sample Input**\n",
    "\n",
    "5\n",
    "\n",
    "**Sample Output**\n",
    "\n",
    "1\n",
    "22\n",
    "333\n",
    "4444\n",
    "\n",
    "\n",
    "<hr>\n",
    "**Code**"
   ]
  },
  {
   "cell_type": "code",
   "execution_count": 8,
   "metadata": {},
   "outputs": [
    {
     "name": "stdout",
     "output_type": "stream",
     "text": [
      "5\n",
      "1\n",
      "22\n",
      "333\n",
      "4444\n"
     ]
    }
   ],
   "source": [
    "if __name__ == '__main__':\n",
    "    for i in range(1, int(input())): #More than 2 lines will result in 0 score. Do not leave a blank line also\n",
    "        print((10**(i)//9)*i)\n"
   ]
  },
  {
   "cell_type": "code",
   "execution_count": null,
   "metadata": {
    "collapsed": true
   },
   "outputs": [],
   "source": []
  }
 ],
 "metadata": {
  "kernelspec": {
   "display_name": "Python 3",
   "language": "python",
   "name": "python3"
  },
  "language_info": {
   "codemirror_mode": {
    "name": "ipython",
    "version": 3
   },
   "file_extension": ".py",
   "mimetype": "text/x-python",
   "name": "python",
   "nbconvert_exporter": "python",
   "pygments_lexer": "ipython3",
   "version": "3.6.3"
  }
 },
 "nbformat": 4,
 "nbformat_minor": 2
}
