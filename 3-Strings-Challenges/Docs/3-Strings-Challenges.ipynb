{
 "cells": [
  {
   "cell_type": "markdown",
   "metadata": {},
   "source": [
    "# Strings-Challenges"
   ]
  },
  {
   "cell_type": "markdown",
   "metadata": {},
   "source": [
    "## [Ex3_1: sWAP cASE](https://www.hackerrank.com/challenges/swap-case/problem) \n",
    "Cho một chuỗi S. Yêu cầu thực hiện chuyển định dạng chữ của chuỗi S.\n",
    "Nếu chữ cái viết hoa --> chuyển thành chữ thường và ngược lại.\n",
    "\n",
    "Ví dụ:\n",
    "```\n",
    "Www.HackerRank.com → wWW.hACKERrANK.COM\n",
    "Pythonist 2 → pYTHONIST 2\n",
    "\n",
    "```"
   ]
  },
  {
   "cell_type": "markdown",
   "metadata": {},
   "source": [
    "\n",
    "\n",
    "<hr>\n",
    "Code here: \n",
    "<hr>"
   ]
  },
  {
   "cell_type": "code",
   "execution_count": 1,
   "metadata": {
    "collapsed": true
   },
   "outputs": [],
   "source": [
    "def swap_single_char(single_char):\n",
    "    if single_char.islower():\n",
    "        return single_char.upper()\n",
    "    else:\n",
    "        return single_char.lower()\n",
    "\n",
    "def swap_case(input_string):\n",
    "    return ''.join([ swap_single_char(single_char) for single_char in input_string])\n"
   ]
  },
  {
   "cell_type": "code",
   "execution_count": 2,
   "metadata": {},
   "outputs": [
    {
     "name": "stdout",
     "output_type": "stream",
     "text": [
      "wWW.hACKERrANK.COM\n"
     ]
    }
   ],
   "source": [
    "if __name__ == '__main__':\n",
    "    # s = input()\n",
    "    s = \"Www.HackerRank.com\"\n",
    "    result = swap_case(s)\n",
    "    print(result)"
   ]
  },
  {
   "cell_type": "markdown",
   "metadata": {},
   "source": [
    "## [Ex3_2: String Split and Join](https://www.hackerrank.com/challenges/python-string-split-and-join/problem)\n",
    "Trong Python, một chuỗi có thể chia nhỏ theo các delimiter (dấu phân cách)\n",
    "\n",
    "**Example:**\n",
    "\n",
    "```Python\n",
    ">>> a = \"this is a string\"\n",
    ">>> a = a.split(\" \") # a is converted to a list of strings. \n",
    ">>> print a\n",
    "['this', 'is', 'a', 'string']\n",
    "\n",
    "```\n",
    "Nối lại các chuỗi cũng đơn giản:\n",
    "\n",
    "```Python\n",
    ">>> a = \"-\".join(a)\n",
    ">>> print a\n",
    "this-is-a-string \n",
    "\n",
    "```\n",
    "Yêu cầu: Viết một function thực hiện chia chuỗi theo dấu space và nối lại chúng bằng dấu -\n",
    "\n",
    ">this is a string   \n",
    "\n",
    ">this-is-a-string\n",
    "\n"
   ]
  },
  {
   "cell_type": "markdown",
   "metadata": {},
   "source": [
    "<hr>\n",
    "Code here: \n",
    "<hr>"
   ]
  },
  {
   "cell_type": "code",
   "execution_count": 4,
   "metadata": {
    "collapsed": true
   },
   "outputs": [],
   "source": [
    "def split_and_join(line):\n",
    "    # write your code here\n",
    "    return '-'.join(line.split())"
   ]
  },
  {
   "cell_type": "code",
   "execution_count": 5,
   "metadata": {},
   "outputs": [
    {
     "name": "stdout",
     "output_type": "stream",
     "text": [
      "write-your-code-here\n"
     ]
    }
   ],
   "source": [
    "if __name__ == '__main__':\n",
    "    # line = input()\n",
    "    line = \"write your code here\"\n",
    "    result = split_and_join(line)\n",
    "    print(result)"
   ]
  },
  {
   "cell_type": "markdown",
   "metadata": {},
   "source": [
    "## [Ex3_3: What's Your Name?](https://www.hackerrank.com/challenges/whats-your-name/problem)\n",
    "\n",
    "Nhập tên và họ của một người trên hai dòng khác nhau. Thực hiện in ra màn hình dòng chứ:\n",
    "\n",
    "```\n",
    "Hello **firstname** **lastname**! You just delved into python.\n",
    "```\n"
   ]
  },
  {
   "cell_type": "markdown",
   "metadata": {},
   "source": [
    "<hr>\n",
    "Code here: \n",
    "<hr>"
   ]
  },
  {
   "cell_type": "code",
   "execution_count": 6,
   "metadata": {},
   "outputs": [
    {
     "name": "stdout",
     "output_type": "stream",
     "text": [
      "Quang\n",
      "Vinh\n",
      "Hello Quang Vinh! You just delved into python.\n"
     ]
    }
   ],
   "source": [
    "def print_full_name(first_name, last_name):\n",
    "    print(\"Hello {} {}! You just delved into python.\".format(first_name, last_name))\n",
    "\n",
    "\n",
    "if __name__ == '__main__':\n",
    "    first_name = input()\n",
    "    last_name = input()\n",
    "    print_full_name(first_name, last_name)"
   ]
  },
  {
   "cell_type": "markdown",
   "metadata": {},
   "source": [
    "## [Ex3_4: Mutations](https://www.hackerrank.com/challenges/python-mutations/problem)\n",
    "\n",
    "Chúng ta đã biết lists là mutable (có thể thay đổi) và tuples là immutable (không thể thay đổi).\n",
    "Hãy tiếp tục tìm hiểu kỹ thông qua các ví dụ dưới đây.\n",
    "\n",
    "Bạn có một chuỗi là immutable và bạn cần phải làm gì đó để thay đổi được nó.\n",
    "\n",
    "> string = \"abracadabra\"\n",
    "\n",
    "You can access an index by:\n",
    "\n",
    "> print string[5]\n",
    "> a\n",
    "\n",
    "Điều gì sẽ xảy ra nếu bạn muốn gán một giá trị?\n",
    "\n",
    "```python\n",
    ">>> string[5] = 'k' \n",
    "Traceback (most recent call last):\n",
    "  File \"<stdin>\", line 1, in <module>\n",
    "TypeError: 'str' object does not support item assignment\n",
    "\n",
    "```\n",
    "\n",
    "Làm thế nào bạn sẽ tiếp cận này?\n",
    "- Một giải pháp là chuyển đổi chuỗi sang một danh sách và sau đó thay đổi giá trị.\n",
    "\n",
    "```Python\n",
    ">>> string = \"abracadabra\"\n",
    ">>> l = list(string)\n",
    ">>> l[5] = 'k'\n",
    ">>> string = ''.join(l)\n",
    ">>> print string\n",
    "abrackdabra\n",
    "\n",
    "```\n",
    "- Cách tiếp cận khác là cắt chuỗi và nối lại.\n",
    "\n",
    "```Python\n",
    ">>> string = string[:5] + \"k\" + string[6:]\n",
    ">>> print string\n",
    "abrackdabra\n",
    "```\n",
    "\n",
    "**Yêu cầu:**\n",
    "Đọc vào một chuỗi và vị trí, ký tự cần thay thế.\n",
    "Thực hiện thay thế dữ liệu.\n",
    "\n",
    "**Input:**\n",
    "```\n",
    "abracadabra\n",
    "5 k\n",
    "```\n",
    "\n",
    "**Output:**\n",
    "abrackdabra\n"
   ]
  },
  {
   "cell_type": "markdown",
   "metadata": {},
   "source": [
    "<hr>\n",
    "Code here: \n",
    "<hr>"
   ]
  },
  {
   "cell_type": "code",
   "execution_count": 7,
   "metadata": {
    "collapsed": true
   },
   "outputs": [],
   "source": [
    "def mutate_string(_string, _position, _character):\n",
    "    temp_list = list(_string)\n",
    "    temp_list[_position] = _character\n",
    "    return ''.join(temp_list)"
   ]
  },
  {
   "cell_type": "markdown",
   "metadata": {},
   "source": [
    "# [Ex3_5: Find a string](https://www.hackerrank.com/challenges/find-a-string/problem)\n",
    "Đọc vào 2 chuỗi, chuỗi chính - chuỗi con. Tìm số lần xuất hiện của chuỗi con trong chuỗi chính (tính từ trái qua phải)\n",
    "\n",
    "**Input:**\n",
    "\n",
    "```\n",
    "ABCDCDC\n",
    "CDC\n",
    "\n",
    "```\n",
    "\n",
    "**Output:**\n",
    "```\n",
    "2\n",
    "```\n"
   ]
  },
  {
   "cell_type": "markdown",
   "metadata": {},
   "source": [
    "<hr>\n",
    "Code here: \n",
    "<hr>"
   ]
  },
  {
   "cell_type": "code",
   "execution_count": 8,
   "metadata": {},
   "outputs": [
    {
     "name": "stdout",
     "output_type": "stream",
     "text": [
      "4\n"
     ]
    }
   ],
   "source": [
    "def count_substring(string, sub_string):\n",
    "    # Fastest\n",
    "    return sum([1 for i in range(0, len(string)) if string[i:i+len(sub_string)] == sub_string])\n",
    "    # explain: List comprehesion like codes\n",
    "    # summ = 0\n",
    "    # for (i in range(len(string)))\n",
    "    # if (string[i:i+len(sub_string)] == sub_string))\n",
    "    #     summ += 1\n",
    "\n",
    "\n",
    "if __name__ == '__main__':\n",
    "    # string = input().strip()\n",
    "    # sub_string = input().strip()\n",
    "    string = (\"In this challenge, the user enters a string and a substring.\"\n",
    "              \"You have to print the number of times that the substring \"\n",
    "              \"occurs in the given string\")\n",
    "    sub_string = \"string\"\n",
    "    count = count_substring(string, sub_string)\n",
    "    print(count)\n"
   ]
  },
  {
   "cell_type": "markdown",
   "metadata": {
    "collapsed": true
   },
   "source": [
    "\n",
    "# [Ex3_6: String Validators](https://www.hackerrank.com/challenges/string-validators/problem)\n",
    "\n",
    "Python chứa nhiều hàm built-in cho phép thực hiện xác thực các dữ liệu.\n",
    "Có thể kiểm tra xem một chuỗi có chứa: ký tự abc, số,...\n",
    "\n",
    "**str.isalnum() **\n",
    "This method checks if all the characters of a string are alphanumeric (a-z, A-Z and 0-9).\n",
    "```Python\n",
    "\n",
    ">>> print 'ab123'.isalnum()\n",
    "True\n",
    ">>> print 'ab123#'.isalnum()\n",
    "False\n",
    "\n",
    "```\n",
    "\n",
    "**str.isalpha() **\n",
    "This method checks if all the characters of a string are alphabetical (a-z and A-Z).\n",
    "\n",
    "```Python\n",
    ">>> print 'abcD'.isalpha()\n",
    "True\n",
    ">>> print 'abcd1'.isalpha()\n",
    "False\n",
    "```\n",
    "\n",
    "**str.isdigit() **\n",
    "This method checks if all the characters of a string are digits (0-9).\n",
    "```Python\n",
    ">>> print '1234'.isdigit()\n",
    "True\n",
    ">>> print '123edsd'.isdigit()\n",
    "False\n",
    "```\n",
    "\n",
    "**str.islower() **\n",
    "This method checks if all the characters of a string are lowercase characters (a-z).\n",
    "```Python\n",
    ">>> print 'abcd123#'.islower()\n",
    "True\n",
    ">>> print 'Abcd123#'.islower()\n",
    "False\n",
    "```\n",
    "\n",
    "**str.isupper() **\n",
    "This method checks if all the characters of a string are uppercase characters (A-Z).\n",
    "```Python\n",
    ">>> print 'ABCD123#'.isupper()\n",
    "True\n",
    ">>> print 'Abcd123#'.isupper()\n",
    "False\n",
    "```\n",
    "\n",
    "### Yêu cầu\n",
    "Nhận đầu vào là một chuỗi, in ra màn hình kết quả nếu chuỗi có chứa các điều kiện sau: \n",
    "alphanumeric characters, alphabetical characters, digits, lowercase and uppercase characters.\n",
    "\n",
    "In the first line, print True if  has any alphanumeric characters. Otherwise, print False. \n",
    "In the second line, print True if  has any alphabetical characters. Otherwise, print False. \n",
    "In the third line, print True if  has any digits. Otherwise, print False. \n",
    "In the fourth line, print True if  has any lowercase characters. Otherwise, print False. \n",
    "In the fifth line, print True if  has any uppercase characters. Otherwise, print False."
   ]
  },
  {
   "cell_type": "markdown",
   "metadata": {},
   "source": [
    "<hr>\n",
    "Code here: \n",
    "<hr>"
   ]
  },
  {
   "cell_type": "code",
   "execution_count": 9,
   "metadata": {},
   "outputs": [
    {
     "name": "stdout",
     "output_type": "stream",
     "text": [
      "True\n",
      "True\n",
      "True\n",
      "True\n",
      "True\n"
     ]
    }
   ],
   "source": [
    "\n",
    "def validate_string(input_string):\n",
    "    # alphanumeric\n",
    "    print(any([sg_char.isalnum() for sg_char in input_string]))\n",
    "    # alphabetical\n",
    "    print(any([sg_char.isalpha() for sg_char in input_string]))\n",
    "    # Digits\n",
    "    print(any([sg_char.isdigit() for sg_char in input_string]))\n",
    "    # lowercase\n",
    "    print(any([sg_char.islower() for sg_char in input_string]))\n",
    "    #uppcase\n",
    "    print(any([sg_char.isupper() for sg_char in input_string]))\n",
    "\n",
    "\n",
    "if __name__ == '__main__':\n",
    "    # s = input()\n",
    "    s = \"1q2w3e4r@A\"\n",
    "    validate_string(s)\n"
   ]
  },
  {
   "cell_type": "markdown",
   "metadata": {
    "collapsed": true
   },
   "source": [
    "\n",
    "## [EX3_7: Text Alignment](https://www.hackerrank.com/challenges/text-alignment/problem)\n",
    "Trong Python, một chuỗi có thể canh trái, canh phải hoặc canh giữa.\n",
    "\n",
    "**.ljust(width)**\n",
    "\n",
    "This method returns a left aligned string of length width.\n",
    "```\n",
    "\n",
    ">>> width = 20\n",
    ">>> print 'HackerRank'.ljust(width,'-')\n",
    "HackerRank----------  \n",
    "\n",
    "```\n",
    "\n",
    "**.center(width)**\n",
    "\n",
    "This method returns a centered string of length width.\n",
    "\n",
    "```\n",
    ">>> width = 20\n",
    ">>> print 'HackerRank'.center(width,'-')\n",
    "-----HackerRank-----\n",
    "\n",
    "```\n",
    "\n",
    "**.rjust(width)**\n",
    "\n",
    "This method returns a right aligned string of length width.\n",
    "\n",
    "```\n",
    ">>> width = 20\n",
    ">>> print 'HackerRank'.rjust(width,'-')\n",
    "----------HackerRank\n",
    "```\n",
    "\n",
    "### Yêu cầu:\n",
    "Nhập vào 1 số và in ra màn hình logo Hackerrank (H) theo như ví dụ.\n",
    "**Input:**\n",
    "\n",
    "```\n",
    "5\n",
    "\n",
    "```\n",
    "\n",
    "**Output:**\n",
    "```\n",
    "    H    \n",
    "   HHH   \n",
    "  HHHHH  \n",
    " HHHHHHH \n",
    "HHHHHHHHH\n",
    "  HHHHH               HHHHH             \n",
    "  HHHHH               HHHHH             \n",
    "  HHHHH               HHHHH             \n",
    "  HHHHH               HHHHH             \n",
    "  HHHHH               HHHHH             \n",
    "  HHHHH               HHHHH             \n",
    "  HHHHHHHHHHHHHHHHHHHHHHHHH   \n",
    "  HHHHHHHHHHHHHHHHHHHHHHHHH   \n",
    "  HHHHHHHHHHHHHHHHHHHHHHHHH   \n",
    "  HHHHH               HHHHH             \n",
    "  HHHHH               HHHHH             \n",
    "  HHHHH               HHHHH             \n",
    "  HHHHH               HHHHH             \n",
    "  HHHHH               HHHHH             \n",
    "  HHHHH               HHHHH             \n",
    "                    HHHHHHHHH \n",
    "                     HHHHHHH  \n",
    "                      HHHHH   \n",
    "                       HHH    \n",
    "                        H \n",
    "```\n",
    "<hr>\n",
    "<b>Code here</b>: \n",
    "<hr>"
   ]
  },
  {
   "cell_type": "code",
   "execution_count": 1,
   "metadata": {},
   "outputs": [
    {
     "name": "stdout",
     "output_type": "stream",
     "text": [
      "    H    \n",
      "   HHH   \n",
      "  HHHHH  \n",
      " HHHHHHH \n",
      "HHHHHHHHH\n",
      "  HHHHH               HHHHH             \n",
      "  HHHHH               HHHHH             \n",
      "  HHHHH               HHHHH             \n",
      "  HHHHH               HHHHH             \n",
      "  HHHHH               HHHHH             \n",
      "  HHHHH               HHHHH             \n",
      "  HHHHHHHHHHHHHHHHHHHHHHHHH   \n",
      "  HHHHHHHHHHHHHHHHHHHHHHHHH   \n",
      "  HHHHHHHHHHHHHHHHHHHHHHHHH   \n",
      "  HHHHH               HHHHH             \n",
      "  HHHHH               HHHHH             \n",
      "  HHHHH               HHHHH             \n",
      "  HHHHH               HHHHH             \n",
      "  HHHHH               HHHHH             \n",
      "  HHHHH               HHHHH             \n",
      "                    HHHHHHHHH \n",
      "                     HHHHHHH  \n",
      "                      HHHHH   \n",
      "                       HHH    \n",
      "                        H     \n"
     ]
    }
   ],
   "source": [
    "#!/usr/bin/env python3\n",
    "\n",
    "def print_hackkerrank_logo(thickness, c):\n",
    "    #Replace all ______ with rjust, ljust or center.\n",
    "    #Top Cone\n",
    "    for i in range(thickness):\n",
    "        print((c*i).rjust(thickness-1)+c+(c*i).ljust(thickness-1))\n",
    "    #Top Pillars\n",
    "    for i in range(thickness+1):\n",
    "        print((c*thickness).center(thickness*2)+(c*thickness).center(thickness*6))\n",
    "    #Middle Belt\n",
    "    for i in range((thickness+1)//2):\n",
    "        print((c*thickness*5).center(thickness*6))\n",
    "    #Bottom Pillars\n",
    "    for i in range(thickness+1):\n",
    "        print((c*thickness).center(thickness*2)+(c*thickness).center(thickness*6))\n",
    "    #Bottom Cone\n",
    "    for i in range(thickness):\n",
    "        print(((c*(thickness-i-1)).rjust(thickness)+c+(c*(thickness-i-1)).ljust(thickness)).rjust(thickness*6))\n",
    "\n",
    "\n",
    "if __name__ == '__main__':\n",
    "    # thickness = input()\n",
    "    thickness = 5\n",
    "    c = \"H\"\n",
    "    print_hackkerrank_logo(thickness, c)\n"
   ]
  },
  {
   "cell_type": "markdown",
   "metadata": {},
   "source": [
    "\n",
    "\n",
    "## [Ex3_8: Text Wrap](https://www.hackerrank.com/challenges/text-wrap/problem)\n",
    "Thư viện textwrap cung cấp hai phương thức: wrap(), fill(). Với cách hoạt động như sau:\n",
    "\n",
    "textwrap.wrap(): Chia một đoạn văn bản (chuỗi) thành các dòng khác nhau với độ dài là width (mặc định 70). Cách chia dựa trên dấu space. Kết quả trả về là một list.\n",
    "Lưu ý: Nếu đọc được witdh ký tự nhưng đoạn cuối cùng chưa đọc hết một từ --> chuỗi trả về sẽ lùi lại, trả về từ vị trí khoảng trắng gần nhất.\n",
    "\n",
    "ví dụ: \n",
    "\n",
    "```Python\n",
    ">>> import textwrap\n",
    ">>> string = \"This is a very very very very very long string.\"\n",
    ">>> print textwrap.wrap(string,8)\n",
    "['This is', 'a very', 'very', 'very', 'very', 'very', 'long', 'string.'] \n",
    ">>> print([(value, len(value)) for value in textwrap.wrap(string, 8)])\n",
    "[('This is', 7), ('a very', 6), ('very', 4), ('very', 4), ('very', 4), ('very', 4), ('long', 4), ('string.', 7)]\n",
    "\n",
    "```\n",
    "Giải thích: \n",
    "\"This is \" --> đoạn này có 8 ký tự, sau khi striP() --> còn 7 ký tự.\n",
    "\"a very v\" --> đoạn này có 8 ký tự nhưng ký tự tiếp theo không phải khoảng trắng --> thụt lại đến vị trí khoảng trắng gần nhất. --> a very\n",
    "\"very ver\" --> đoạn này có 8 ký tự nhưng ký tự tiếp theo không phải khoảng trắng --> thụt lại đến vị trí khoảng trắng gần nhất.  --> very\n",
    "\n",
    "\n",
    "textwrap.fill(): tương tự như wrap(), phương thức fill() sẽ thực hiện trả về một chuối chứa các dòng.\n",
    "Có thể hiểu như này cho nhanh fill() = \"\\n.joint(wrap()).\n",
    "\n",
    "Ví dụ: \n",
    "```Python\n",
    ">>> import textwrap\n",
    ">>> string = \"This is a very very very very very long string.\"\n",
    ">>> print textwrap.fill(string,8)\n",
    "This is\n",
    "a very\n",
    "very\n",
    "very\n",
    "very\n",
    "very\n",
    "long\n",
    "string.\n",
    "```\n",
    "\n",
    "```Python\n",
    ">>textwrap.fill(string,8) == \"\\n\".join(textwrap.wrap(string, 8))\n",
    "True\n",
    "```\n",
    "\n",
    "### Yêu cầu đề bài: \n",
    "Cho một chuỗi S và một số n. Thực hiện wrap chuỗi S thành một chuỗi khác như ví dụ: \n",
    "\n",
    "**Input:**\n",
    "```\n",
    "ABCDEFGHIJKLIMNOQRSTUVWXYZ\n",
    "4\n",
    "\n",
    "```\n",
    "\n",
    "**Output:**\n",
    "\n",
    "```\n",
    "ABCD\n",
    "EFGH\n",
    "IJKL\n",
    "IMNO\n",
    "QRST\n",
    "UVWX\n",
    "YZ  \n",
    "```\n",
    "\n",
    "<hr>\n",
    "<b>Code here</b>: \n",
    "<hr>"
   ]
  },
  {
   "cell_type": "code",
   "execution_count": 3,
   "metadata": {},
   "outputs": [
    {
     "name": "stdout",
     "output_type": "stream",
     "text": [
      "bscnksbcj\n",
      "scksbcjks\n",
      "bckjdscsb\n",
      "dcbsdkjbc\n",
      "sdjcbsdjk\n",
      "cbsdkjbck\n",
      "jdsbjksd\n"
     ]
    }
   ],
   "source": [
    "#!/usr/bin/env python3\n",
    "import textwrap\n",
    "\n",
    "def wrap(string, max_width):\n",
    "    return '\\n'.join(textwrap.wrap(string, max_width))\n",
    "\n",
    "\n",
    "if __name__ == '__main__':\n",
    "    # S = input()\n",
    "    # in = int(input())\n",
    "    S = \"bscnksbcjscksbcjksbckjdscsbdcbsdkjbcsdjcbsdjkcbsdkjbckjdsbjksd\"\n",
    "    n = 9\n",
    "    print(wrap(S, n))"
   ]
  },
  {
   "cell_type": "markdown",
   "metadata": {},
   "source": [
    "## [Ex3_8: Designer Door Mat](https://www.hackerrank.com/challenges/designer-door-mat/problem)\n",
    "\n",
    "Tôi ghét nhất loại vẽ ra những cái hình như thế này :(\n",
    "Và tôi không muốn tốn thời gian để làm nó. Các bạn đọc yêu cầu từ hackerrank và code để giải ở dưới đây:\n",
    "\n",
    "```\n",
    "N, M = map(int,input().split()) # More than 6 lines of code will result in 0 score. Blank lines are not counted.\n",
    "pattern = [('.|.'*(2*i + 1)).center(M, '-') for i in range(N//2)]\n",
    "print('\\n'.join(pattern + ['WELCOME'.center(M, '-')] + pattern[::-1]))\n",
    "\n",
    "```\n",
    "<hr>\n",
    "<b>Code here</b>: \n",
    "<hr>"
   ]
  },
  {
   "cell_type": "code",
   "execution_count": 5,
   "metadata": {},
   "outputs": [
    {
     "name": "stdout",
     "output_type": "stream",
     "text": [
      "7 21\n",
      "---------.|.---------\n",
      "------.|..|..|.------\n",
      "---.|..|..|..|..|.---\n",
      "-------WELCOME-------\n",
      "---.|..|..|..|..|.---\n",
      "------.|..|..|.------\n",
      "---------.|.---------\n"
     ]
    }
   ],
   "source": [
    "N, M = map(int,input().split()) # More than 6 lines of code will result in 0 score. Blank lines are not counted.\n",
    "pattern = [('.|.'*(2*i + 1)).center(M, '-') for i in range(N//2)]\n",
    "print('\\n'.join(pattern + ['WELCOME'.center(M, '-')] + pattern[::-1]))\n",
    "\n"
   ]
  },
  {
   "cell_type": "markdown",
   "metadata": {},
   "source": [
    " ## [Ex3_10: String Formatting](https://www.hackerrank.com/challenges/python-string-formatting/problem) \n",
    "Cho một số tự nhiên N, in ra màn hình các số từ 1 đến n theo các loại:\n",
    "1. Decimal\n",
    "2. Octal\n",
    "3. Hexadecimal (capitalized - định dạng 4 số đầy đủ, thêm 0 phía trước)\n",
    "4. Binary\n",
    "\n",
    "Mỗi số in ra trên một dòng. Format mỗi số được in ra có độ dài bằng độ dài của số N ở dạng nhị phân và dấu cách.\n",
    "\n",
    "**Input:**\n",
    "\n",
    "```\n",
    "17\n",
    "```\n",
    "\n",
    "\n",
    "\n",
    "```\n",
    "    1     1     1     1\n",
    "    2     2     2    10\n",
    "    3     3     3    11\n",
    "    4     4     4   100\n",
    "    5     5     5   101\n",
    "    6     6     6   110\n",
    "    7     7     7   111\n",
    "    8    10     8  1000\n",
    "    9    11     9  1001\n",
    "   10    12     A  1010\n",
    "   11    13     B  1011\n",
    "   12    14     C  1100\n",
    "   13    15     D  1101\n",
    "   14    16     E  1110\n",
    "   15    17     F  1111\n",
    "   16    20    10 10000\n",
    "   17    21    11 10001\n",
    "\n",
    "```\n",
    "<hr>\n",
    "<b>Code here</b>: \n",
    "<hr>"
   ]
  },
  {
   "cell_type": "code",
   "execution_count": 6,
   "metadata": {},
   "outputs": [
    {
     "name": "stdout",
     "output_type": "stream",
     "text": [
      "    1     1     1     1\n",
      "    2     2     2    10\n",
      "    3     3     3    11\n",
      "    4     4     4   100\n",
      "    5     5     5   101\n",
      "    6     6     6   110\n",
      "    7     7     7   111\n",
      "    8    10     8  1000\n",
      "    9    11     9  1001\n",
      "   10    12     A  1010\n",
      "   11    13     B  1011\n",
      "   12    14     C  1100\n",
      "   13    15     D  1101\n",
      "   14    16     E  1110\n",
      "   15    17     F  1111\n",
      "   16    20    10 10000\n",
      "   17    21    11 10001\n"
     ]
    }
   ],
   "source": [
    "#!/usr/bin/env python3\n",
    "\n",
    "def print_formatted(input_number):\n",
    "    width = len(bin(input_number)[2:])\n",
    "    for i in range(1, input_number + 1):\n",
    "        print (str(i).rjust(width,' '),str(oct(i)[2:]).rjust(width,' '),str(hex(i)[2:].upper()).rjust(width,' '),str(bin(i)[2:]).rjust(width,' '),sep=' ')\n",
    "\n",
    "\n",
    "if __name__ == '__main__':\n",
    "    # n = input()\n",
    "    n = 17\n",
    "    print_formatted(n)\n"
   ]
  },
  {
   "cell_type": "markdown",
   "metadata": {},
   "source": [
    "\n",
    "## [Ex3_11](https://www.hackerrank.com/challenges/alphabet-rangoli/problem)\n",
    "\n",
    "Lại một bài in chữ kỳ dị. \n",
    "\n",
    "Với một số n, --> tìm tương ứng trong bảng mã ascii, chữ thường.\n",
    "In ra hình với dạng: a ở trung tâm và các chữ khác xung quanh như sau:\n",
    "```\n",
    "#size 3\n",
    "\n",
    "----c----\n",
    "--c-b-c--\n",
    "c-b-a-b-c\n",
    "--c-b-c--\n",
    "----c----\n",
    "\n",
    "#size 5\n",
    "\n",
    "--------e--------\n",
    "------e-d-e------\n",
    "----e-d-c-d-e----\n",
    "--e-d-c-b-c-d-e--\n",
    "e-d-c-b-a-b-c-d-e\n",
    "--e-d-c-b-c-d-e--\n",
    "----e-d-c-d-e----\n",
    "------e-d-e------\n",
    "--------e--------\n",
    "\n",
    "#size 10\n",
    "\n",
    "------------------j------------------\n",
    "----------------j-i-j----------------\n",
    "--------------j-i-h-i-j--------------\n",
    "------------j-i-h-g-h-i-j------------\n",
    "----------j-i-h-g-f-g-h-i-j----------\n",
    "--------j-i-h-g-f-e-f-g-h-i-j--------\n",
    "------j-i-h-g-f-e-d-e-f-g-h-i-j------\n",
    "----j-i-h-g-f-e-d-c-d-e-f-g-h-i-j----\n",
    "--j-i-h-g-f-e-d-c-b-c-d-e-f-g-h-i-j--\n",
    "j-i-h-g-f-e-d-c-b-a-b-c-d-e-f-g-h-i-j\n",
    "--j-i-h-g-f-e-d-c-b-c-d-e-f-g-h-i-j--\n",
    "----j-i-h-g-f-e-d-c-d-e-f-g-h-i-j----\n",
    "------j-i-h-g-f-e-d-e-f-g-h-i-j------\n",
    "--------j-i-h-g-f-e-f-g-h-i-j--------\n",
    "----------j-i-h-g-f-g-h-i-j----------\n",
    "------------j-i-h-g-h-i-j------------\n",
    "--------------j-i-h-i-j--------------\n",
    "----------------j-i-j----------------\n",
    "------------------j------------------\n",
    "\n",
    "```\n",
    "\n",
    "<hr>\n",
    "<b>Code here</b>: \n",
    "<hr>"
   ]
  },
  {
   "cell_type": "code",
   "execution_count": 7,
   "metadata": {},
   "outputs": [
    {
     "name": "stdout",
     "output_type": "stream",
     "text": [
      "--------e--------\n",
      "------e-d-e------\n",
      "----e-d-c-d-e----\n",
      "--e-d-c-b-c-d-e--\n",
      "e-d-c-b-a-b-c-d-e\n",
      "--e-d-c-b-c-d-e--\n",
      "----e-d-c-d-e----\n",
      "------e-d-e------\n",
      "--------e--------\n"
     ]
    }
   ],
   "source": [
    "import string\n",
    "\n",
    "def print_rangoli(size):\n",
    "    alpha = string.ascii_lowercase\n",
    "    my_list = ['-'.join((alpha[i:n][::-1] + alpha[i:n][1:]).center(2*size-1,\"-\")) for i in range(n)]\n",
    "    print('\\n'.join(my_list[::-1] + my_list[1:]))\n",
    "\n",
    "\n",
    "if __name__ == '__main__':\n",
    "    # n = input()\n",
    "    n = 5\n",
    "    print_rangoli(n)\n"
   ]
  },
  {
   "cell_type": "markdown",
   "metadata": {
    "collapsed": true
   },
   "source": [
    "## [Ex3_12 Capitalize!](https://www.hackerrank.com/challenges/capitalize/problem)\n",
    "\n",
    "Cho bạn một chuỗi S, hãy viết hoa từng chữ trong S.\n",
    "Ghi chú: Chỉ viết hoa chữ cái đầu tiên của chữ.\n",
    "\n",
    "**Input:**\n",
    "hello word\n",
    "\n",
    "**Output**\n",
    "Hello Word\n",
    "\n",
    "<hr>\n",
    "<b>Code here</b>: \n",
    "<hr>"
   ]
  },
  {
   "cell_type": "code",
   "execution_count": 3,
   "metadata": {},
   "outputs": [
    {
     "name": "stdout",
     "output_type": "stream",
     "text": [
      "1 W 2 R 3g\n"
     ]
    }
   ],
   "source": [
    "def capitalize(string):\n",
    "    return ' '.join([sub.capitalize() for sub in string.split(\" \")])\n",
    "\n",
    "\n",
    "if __name__ == '__main__':\n",
    "    # string = input()\n",
    "    string = \"1 w 2 r 3g\"\n",
    "    capitalized_string = capitalize(string)\n",
    "    print(capitalized_string)\n"
   ]
  },
  {
   "cell_type": "code",
   "execution_count": null,
   "metadata": {
    "collapsed": true
   },
   "outputs": [],
   "source": []
  }
 ],
 "metadata": {
  "kernelspec": {
   "display_name": "Python 3",
   "language": "python",
   "name": "python3"
  },
  "language_info": {
   "codemirror_mode": {
    "name": "ipython",
    "version": 3
   },
   "file_extension": ".py",
   "mimetype": "text/x-python",
   "name": "python",
   "nbconvert_exporter": "python",
   "pygments_lexer": "ipython3",
   "version": "3.6.3"
  }
 },
 "nbformat": 4,
 "nbformat_minor": 2
}
