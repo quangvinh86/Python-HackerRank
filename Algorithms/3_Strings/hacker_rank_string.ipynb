{
 "cells": [
  {
   "cell_type": "markdown",
   "metadata": {},
   "source": [
    "### Super Reduced String\n",
    "https://www.hackerrank.com/challenges/reduced-string/problem\n"
   ]
  },
  {
   "cell_type": "code",
   "execution_count": 14,
   "metadata": {},
   "outputs": [
    {
     "name": "stdout",
     "output_type": "stream",
     "text": [
      "baab\n",
      "Empty String\n"
     ]
    }
   ],
   "source": [
    "#!/bin/python3\n",
    "\n",
    "import math\n",
    "import os\n",
    "import random\n",
    "import re\n",
    "import sys\n",
    "\n",
    "# Complete the superReducedString function below.\n",
    "def superReducedString(origin_str):\n",
    "    if not origin_str:\n",
    "        return \"Empty String\"\n",
    "    result = []\n",
    "    for char in origin_str:\n",
    "        if result and result[-1] == char:\n",
    "            result.pop()\n",
    "        else:\n",
    "            result.append(char)\n",
    "    if result:\n",
    "        return \"\".join(result)\n",
    "    else:\n",
    "        return \"Empty String\"\n",
    "            \n",
    "\n",
    "if __name__ == '__main__':\n",
    "#     fptr = open(os.environ['OUTPUT_PATH'], 'w')\n",
    "\n",
    "    s = input()\n",
    "\n",
    "    result = superReducedString(s)\n",
    "    print(result)\n",
    "\n",
    "#     fptr.write(result + '\\n')\n",
    "\n",
    "#     fptr.close()\n"
   ]
  },
  {
   "cell_type": "markdown",
   "metadata": {},
   "source": [
    "### Strong Password\n",
    "https://www.hackerrank.com/challenges/strong-password/problem\n"
   ]
  },
  {
   "cell_type": "code",
   "execution_count": 24,
   "metadata": {},
   "outputs": [
    {
     "name": "stdout",
     "output_type": "stream",
     "text": [
      "4\n",
      "4700\n",
      "3\n"
     ]
    }
   ],
   "source": [
    "#!/bin/python3\n",
    "\n",
    "import math\n",
    "import os\n",
    "import random\n",
    "import re\n",
    "import sys\n",
    "\n",
    "# Complete the minimumNumber function below.\n",
    "def minimum_number(n, password):\n",
    "    digit, lower, upper, special = 1, 1, 1, 1\n",
    "    special_characters = \"!@#$%^&*()-+\"\n",
    "    for char in password:\n",
    "        if digit and char.isdigit():\n",
    "            digit = 0\n",
    "        if lower and char.islower():\n",
    "            lower = 0\n",
    "        if upper and char.isupper():\n",
    "            upper = 0\n",
    "        if special and char in special_characters:\n",
    "            special = 0\n",
    "    return max(digit + lower + upper + special, 6 - n)\n",
    "        \n",
    "if __name__ == '__main__':\n",
    "#     fptr = open(os.environ['OUTPUT_PATH'], 'w')\n",
    "\n",
    "    n = int(input())\n",
    "\n",
    "    password = input()\n",
    "\n",
    "    answer = minimum_number(n, password)\n",
    "\n",
    "#     fptr.write(str(answer) + '\\n')\n",
    "\n",
    "#     fptr.close()\n",
    "    print(answer)\n"
   ]
  },
  {
   "cell_type": "markdown",
   "metadata": {},
   "source": [
    "### Two Characters\n",
    "https://www.hackerrank.com/challenges/two-characters/problem\n"
   ]
  },
  {
   "cell_type": "code",
   "execution_count": 4,
   "metadata": {},
   "outputs": [
    {
     "name": "stdout",
     "output_type": "stream",
     "text": [
      "28\n",
      "asdcbsdcagfsdbgdfanfghbsfdab\n",
      "8\n"
     ]
    }
   ],
   "source": [
    "#!/bin/python3\n",
    "\n",
    "import math\n",
    "import os\n",
    "import random\n",
    "import re\n",
    "import sys\n",
    "\n",
    "def check_valid_string(remain_string):\n",
    "    last_char = remain_string[0]\n",
    "    for char in remain_string[1:]:\n",
    "        if last_char == char:\n",
    "            return False\n",
    "        else:\n",
    "            last_char = char\n",
    "    return True\n",
    "        \n",
    "def get_remain_string(chars, value, original_str):\n",
    "    remove_set = chars - value\n",
    "    for remove_str in list(remove_set):\n",
    "        original_str = original_str.replace(remove_str, \"\")\n",
    "    return original_str\n",
    "\n",
    "def find_max_lenght(chars, original_str):\n",
    "    max_lenght = 0\n",
    "    list_chars = list(chars)\n",
    "    for index, first in enumerate(list_chars[:len(list_chars)-1]):\n",
    "        for second in list_chars[index + 1:]:\n",
    "            value = set(first + second)\n",
    "            remain_string = get_remain_string(chars, value, original_str)\n",
    "            if check_valid_string(remain_string):\n",
    "                max_lenght = max(max_lenght, len(remain_string))            \n",
    "    return max_lenght\n",
    "\n",
    "\n",
    "# Complete the alternate function below.\n",
    "def alternate(original_str):\n",
    "    chars = set(original_str)\n",
    "    if len(chars) < 2:\n",
    "        return 0\n",
    "    if len(chars) < 3:\n",
    "        return len(original_str)\n",
    "    else: \n",
    "        return find_max_lenght(chars, original_str)\n",
    "\n",
    "\n",
    "if __name__ == '__main__':\n",
    "#     fptr = open(os.environ['OUTPUT_PATH'], 'w')\n",
    "\n",
    "    l = int(input().strip())\n",
    "    s = input()\n",
    "\n",
    "    result = alternate(s)\n",
    "    print(result)\n",
    "\n",
    "#     fptr.write(str(result) + '\\n')\n",
    "\n",
    "#     fptr.close()\n"
   ]
  },
  {
   "cell_type": "markdown",
   "metadata": {},
   "source": [
    "### Caesar Cipher\n",
    "https://www.hackerrank.com/challenges/caesar-cipher-1/problem\n"
   ]
  },
  {
   "cell_type": "code",
   "execution_count": 38,
   "metadata": {},
   "outputs": [
    {
     "name": "stdout",
     "output_type": "stream",
     "text": [
      "10\n",
      "www.abc.xy\n",
      "87\n",
      "fff.jkl.gh\n"
     ]
    }
   ],
   "source": [
    "#!/bin/python3\n",
    "\n",
    "import math\n",
    "import os\n",
    "import random\n",
    "import re\n",
    "import sys\n",
    "\n",
    "ORD_A_LOWER = ord('a')\n",
    "ORD_Z_LOWER = ord('z')\n",
    "COUNT_AZ = ORD_Z_LOWER - ORD_A_LOWER + 1\n",
    "\n",
    "# Complete the caesarCipher function below.\n",
    "def caesar_cipher(original_str, k):\n",
    "    \"\"\"\n",
    "    COUNT_AZ = 26 \n",
    "    if 'w':\n",
    "    (ord('w') - ord('a') + k) % COUNT_AZ + ord('a') \n",
    "\n",
    "    \"\"\"\n",
    "    new_str = \"\"\n",
    "    for char in original_str:\n",
    "        is_upper = char.isupper()\n",
    "        char = char.lower()\n",
    "        ord_char = ord(char)\n",
    "        if ORD_A_LOWER <= ord_char <= ORD_Z_LOWER:\n",
    "            new_ord_char = (ord_char - ORD_A_LOWER + k) % COUNT_AZ + 97\n",
    "            if is_upper:\n",
    "                new_str += chr(new_ord_char).upper()\n",
    "            else:\n",
    "                new_str += chr(new_ord_char)\n",
    "        else:\n",
    "            new_str += char\n",
    "    return new_str\n",
    "\n",
    "if __name__ == '__main__':\n",
    "#     fptr = open(os.environ['OUTPUT_PATH'], 'w')\n",
    "\n",
    "    n = int(input())\n",
    "\n",
    "    s = input()\n",
    "\n",
    "    k = int(input())\n",
    "\n",
    "    result = caesar_cipher(s, k)\n",
    "    print(result)\n",
    "    \n",
    "#     fptr.write(result + '\\n')\n",
    "\n",
    "#     fptr.close()\n"
   ]
  },
  {
   "cell_type": "markdown",
   "metadata": {},
   "source": [
    "### Mars Exploration\n",
    "https://www.hackerrank.com/challenges/mars-exploration/problem"
   ]
  },
  {
   "cell_type": "code",
   "execution_count": 4,
   "metadata": {},
   "outputs": [
    {
     "name": "stdout",
     "output_type": "stream",
     "text": [
      "SOSSPSSQSSOR\n",
      "3\n"
     ]
    }
   ],
   "source": [
    "#!/bin/python3\n",
    "\n",
    "import math\n",
    "import os\n",
    "import random\n",
    "import re\n",
    "import sys\n",
    "\n",
    "def count_notvalid(list_char, partem):\n",
    "    return sum(1 for x in list_char if x != partem)\n",
    "\n",
    "def count_altered_letter(message):\n",
    "    count = count_notvalid(message[0::3], \"S\")\n",
    "    count += count_notvalid(message[1::3], \"O\")\n",
    "    count += count_notvalid(message[2::3], \"S\")\n",
    "    return count\n",
    "    \n",
    "\n",
    "# Complete the marsExploration function below.\n",
    "def mars_exploration(message):\n",
    "    if message:\n",
    "        return count_altered_letter(message)\n",
    "    else:\n",
    "        return 0\n",
    "        \n",
    "    \n",
    "\n",
    "if __name__ == '__main__':\n",
    "#     fptr = open(os.environ['OUTPUT_PATH'], 'w')\n",
    "\n",
    "    s = input()\n",
    "#     s = \"SOSOSOSOSDSDSKWOSDOSDOASDOASDFAFJDFDOSOSOWNSOSOSNDSKDDOSOSOSJDSDSOOSOSDSDOSASSOASDSAOSOSODSDSOASDWS\"\n",
    "\n",
    "    result = mars_exploration(s)\n",
    "    print(result)\n",
    "\n",
    "#     fptr.write(str(result) + '\\n')\n",
    "\n",
    "#     fptr.close()\n"
   ]
  },
  {
   "cell_type": "code",
   "execution_count": null,
   "metadata": {},
   "outputs": [],
   "source": []
  }
 ],
 "metadata": {
  "kernelspec": {
   "display_name": "Python 3",
   "language": "python",
   "name": "python3"
  },
  "language_info": {
   "codemirror_mode": {
    "name": "ipython",
    "version": 3
   },
   "file_extension": ".py",
   "mimetype": "text/x-python",
   "name": "python",
   "nbconvert_exporter": "python",
   "pygments_lexer": "ipython3",
   "version": "3.7.0"
  }
 },
 "nbformat": 4,
 "nbformat_minor": 2
}
