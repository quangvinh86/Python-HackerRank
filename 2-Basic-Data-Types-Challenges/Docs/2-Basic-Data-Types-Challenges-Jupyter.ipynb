{
 "cells": [
  {
   "cell_type": "markdown",
   "metadata": {},
   "source": [
    "# 2-Basic-Data-Types-Challenges\n"
   ]
  },
  {
   "cell_type": "markdown",
   "metadata": {},
   "source": [
    "> Phần 2 này trên hackerrank cứ yêu cầu nhập giá trị từ bàn phím. Cách này `stupid` nên tôi bỏ qua :)) Vẫn có lệnh input để bạn nào thích thì dùng"
   ]
  },
  {
   "cell_type": "markdown",
   "metadata": {},
   "source": [
    "# [Ex2_1: List](https://www.hackerrank.com/challenges/python-lists/problem)\n",
    "\n",
    "Với một list (list = []), bạn có thể thực hiện các \"tác vụ\" sau:\n",
    "1. _Insert i e:  Thêm mới một phần tử e vào vị trí i\n",
    "2. _Print_: In ra danh sách bên trong list\n",
    "3. _remove e_: Xóa phần tử có giá trị e đầu tiên mà list gặp\n",
    "4. _append e_: Thêm phần tử giá trị e vào cuối của list\n",
    "5. _sort_: Sắp xếp lại các phần tử trong list\n",
    "6. _pop_: lấy ra phần tử cuối của trong list\n",
    "7. _reverse_: Đảo ngược lại list\n",
    "\n",
    "Khởi tạo một list của bạn và đọc các giá trị của n dòng chứa các \"tác vụ\" (n là giá trị dòng đầu tiên được đọc vào) trong 7 loại tác vụ đã nêu ở trên. Lặp lại từng lệnh theo thứ tự và thực hiện thao tác tương ứng trong danh sách của bạn.\n",
    "\n",
    "Ví dụ:\n",
    "**Input:**\n",
    "\n",
    "```\n",
    "12\n",
    "insert 0 5\n",
    "insert 1 10\n",
    "insert 0 6\n",
    "print \n",
    "remove 6\n",
    "append 9\n",
    "append 1\n",
    "sort \n",
    "print\n",
    "pop\n",
    "reverse\n",
    "print\n",
    "```\n",
    "**Sample Output:**\n",
    "\n",
    "```\n",
    "[6, 5, 10]\n",
    "[1, 5, 9, 10]\n",
    "[9, 5, 1]\n",
    "\n",
    "```\n"
   ]
  },
  {
   "cell_type": "code",
   "execution_count": 36,
   "metadata": {
    "collapsed": true
   },
   "outputs": [],
   "source": [
    "INPUT_COMMANDS = '''12\n",
    "insert 0 5\n",
    "insert 1 10\n",
    "insert 0 6\n",
    "print \n",
    "remove 6\n",
    "append 9\n",
    "append 1\n",
    "sort \n",
    "print\n",
    "pop\n",
    "reverse\n",
    "print'''"
   ]
  },
  {
   "cell_type": "code",
   "execution_count": 37,
   "metadata": {
    "collapsed": true
   },
   "outputs": [],
   "source": [
    "\n",
    "def do_command_list(input_commands):\n",
    "    commands = input_commands.strip().split(\"\\n\")\n",
    "    my_list = []\n",
    "    for line_command in commands[1:]:\n",
    "        actions = line_command.split(\" \")\n",
    "        if actions[0] == \"insert\":\n",
    "            my_list.insert(int(actions[1]), int(actions[2]))\n",
    "        elif actions[0] == \"remove\":\n",
    "            my_list.remove(int(actions[1]))\n",
    "        elif actions[0] == \"append\":\n",
    "            my_list.append(int(actions[1]))\n",
    "        elif actions[0] == \"pop\":\n",
    "            my_list.pop()\n",
    "        elif actions[0] == \"sort\":\n",
    "            my_list.sort()\n",
    "        elif actions[0] == \"reverse\":\n",
    "            my_list.reverse()\n",
    "        elif actions[0] == \"print\":\n",
    "            print(my_list)\n",
    "            "
   ]
  },
  {
   "cell_type": "code",
   "execution_count": 38,
   "metadata": {
    "collapsed": true
   },
   "outputs": [],
   "source": [
    "def main():\n",
    "    do_command_list(INPUT_COMMANDS)"
   ]
  },
  {
   "cell_type": "code",
   "execution_count": 16,
   "metadata": {},
   "outputs": [
    {
     "name": "stdout",
     "output_type": "stream",
     "text": [
      "[6, 5, 10]\n",
      "[1, 5, 9, 10]\n",
      "[9, 5, 1]\n"
     ]
    }
   ],
   "source": [
    "main()"
   ]
  },
  {
   "cell_type": "markdown",
   "metadata": {},
   "source": [
    "## Đây là bài giải dùng để push lên Hackerrank\n",
    "Quá hại não với hàm main với input của nó :(\n",
    "\n",
    "\n"
   ]
  },
  {
   "cell_type": "code",
   "execution_count": 17,
   "metadata": {},
   "outputs": [
    {
     "name": "stdout",
     "output_type": "stream",
     "text": [
      "2\n",
      "insert 2 5\n",
      "print\n",
      "[5]\n"
     ]
    }
   ],
   "source": [
    "if __name__ == '__main__':\n",
    "    n = int(input())\n",
    "    input_list = []\n",
    "    input_list.append(str(n))\n",
    "    for _ in range(n):\n",
    "        s = input().strip()\n",
    "        input_list.append(s)\n",
    "    input_string = \"\\n\".join(input_list)\n",
    "    do_command_list(input_string)"
   ]
  },
  {
   "cell_type": "markdown",
   "metadata": {},
   "source": [
    "# [Ex2_2: Tuple](https://www.hackerrank.com/challenges/python-tuples/problem)\n",
    "Nhập vào số nguyên n từ bàn phím\n",
    "Số n tương ứng với số lượng phần tử được nhập từ bàn phím ở dòng thứ 2. Mỗi phần tử cách nhau một dấu cách. \n",
    "Tạo một tuple t với n số nguyên này, sau đó tính toán và in ra màn hình giá trị của hash(t)\n",
    "\n",
    "Ví dụ\n",
    "\n",
    "**Input**\n",
    "```\n",
    "2\n",
    "1 2\n",
    "\n",
    "```\n",
    "**Output**\n",
    "```\n",
    "3713081631934410656\n",
    "\n",
    "```"
   ]
  },
  {
   "cell_type": "code",
   "execution_count": 18,
   "metadata": {
    "collapsed": true
   },
   "outputs": [],
   "source": [
    "def create_tuple(integer_list):\n",
    "    my_tuple = tuple(integer_list)\n",
    "    print(hash(my_tuple))\n"
   ]
  },
  {
   "cell_type": "code",
   "execution_count": 20,
   "metadata": {},
   "outputs": [
    {
     "name": "stdout",
     "output_type": "stream",
     "text": [
      "1 2\n",
      "3713081631934410656\n"
     ]
    }
   ],
   "source": [
    "if __name__ == \"__main__\":\n",
    "    # n = int(input())\n",
    "    integer_list = map(int, input().split())\n",
    "    create_tuple(integer_list)"
   ]
  },
  {
   "cell_type": "markdown",
   "metadata": {},
   "source": [
    "\n",
    "# [Ex2_3: List Comprehensions](https://www.hackerrank.com/challenges/list-comprehensions/problem)\n",
    "\n",
    "Ta có 3 số nguyên X, Y, Z là ba chiều của một khối cuboid (khối chữ nhật). Và một số nguyên N.\n",
    "Yêu cầu in ra màn hình tất cả các tọa độ có thể tạo bởi (i,j,k) trong lưới 3D thỏa mãn: \n",
    "- i + j + k != N và 0 <= i <= X, 0 <= j <= Y, 0 <= k <= Z.\n",
    "- Sắp xếp các tọa độ theo chiều tăng dần i, j , k\n",
    "- Yêu cầu sử dụng List Comprehension\n",
    "Ví dụ:\n",
    "\n",
    "**Input:**\n",
    "```\n",
    "1\n",
    "1\n",
    "1\n",
    "2\n",
    "```\n",
    "**Output:**\n",
    "\n",
    "```\n",
    "[[0, 0, 0], [0, 0, 1], [0, 1, 0], [1, 0, 0], [1, 1, 1]] \n",
    "```\n",
    "\n",
    "Nếu sử dụng list bình thường, code có thể sử dụng như sau:\n",
    "\n",
    "```Python\n",
    "x = int ( raw_input())\n",
    "y = int ( raw_input())\n",
    "n = int ( raw_input())\n",
    "ar = []\n",
    "p = 0\n",
    "for i in range ( x + 1 ) :\n",
    "    for j in range( y + 1):\n",
    "        if i+j != n:\n",
    "            ar.append([])\n",
    "            ar[p] = [ i , j ]\n",
    "            p+=1\n",
    "print ar    \n",
    "```\n"
   ]
  },
  {
   "cell_type": "code",
   "execution_count": 26,
   "metadata": {
    "collapsed": true
   },
   "outputs": [],
   "source": [
    "def create_list(x,y,z,n):\n",
    "    print([[i, j, k] for i in range(0, x + 1)\n",
    "           for j in range(0, y + 1)\n",
    "           for k in range(0, z + 1)\n",
    "           if i + j + k != n])\n"
   ]
  },
  {
   "cell_type": "code",
   "execution_count": 27,
   "metadata": {},
   "outputs": [
    {
     "name": "stdout",
     "output_type": "stream",
     "text": [
      "[[0, 0, 0], [0, 0, 1], [0, 1, 0], [1, 0, 0], [1, 1, 1]]\n"
     ]
    }
   ],
   "source": [
    "if __name__ == '__main__':\n",
    "    # x = int(input())\n",
    "    # y = int(input())\n",
    "    # z = int(input())\n",
    "    # n = int(input())\n",
    "    x = y = z = 1\n",
    "    n = 2\n",
    "    create_list(x, y, z, n)\n"
   ]
  },
  {
   "cell_type": "markdown",
   "metadata": {},
   "source": [
    "\n",
    "# [Ex2_4: Find the Second Largest Number](https://www.hackerrank.com/challenges/find-second-maximum-number-in-a-list/problem)\n",
    "\n",
    "Ta có n số nguyên 2 <= n <= 10, giá trị các số nguyên nằm trong giải (-100, 100). Đưa các số nguyên vào một list.\n",
    "Hãy tìm số nguyên có giá trị lớn thứ 2 trong list.\n",
    "\n",
    "Ví dụ: \n",
    "**Input**\n",
    "\n",
    "```\n",
    "5\n",
    "2 3 6 6 5\n",
    "```\n",
    "\n",
    "**Output**\n",
    "```\n",
    "5\n",
    "```"
   ]
  },
  {
   "cell_type": "code",
   "execution_count": 39,
   "metadata": {
    "collapsed": true
   },
   "outputs": [],
   "source": [
    "def find_second_largest(integer_list):\n",
    "    return sorted(list(set(integer_list)))[-2]"
   ]
  },
  {
   "cell_type": "code",
   "execution_count": 40,
   "metadata": {},
   "outputs": [
    {
     "name": "stdout",
     "output_type": "stream",
     "text": [
      "0\n"
     ]
    }
   ],
   "source": [
    "if __name__ == '__main__':\n",
    "    # n = int(input())\n",
    "    # arr = map(int, input().split())\n",
    "    integer_list = map(int, \"1 -4 0 -2 -4\".split())\n",
    "    print(find_second_largest(integer_list))"
   ]
  },
  {
   "cell_type": "markdown",
   "metadata": {},
   "source": [
    "\n",
    "# [Ex2_5: Nested Lists](https://www.hackerrank.com/challenges/nested-list/problem)\n",
    "\n",
    "Một lớp có N sinh viên, mỗi sinh viên có tên và một điểm tổng kết. Dữ liệu được lưu trong một nested list.\n",
    "Hãy in ra màn hình tên của những sinh viên có điểm thấp nhất thứ nhì của lớp (Xếp thứ 2 từ dưới lên).\n",
    "Ghi chú: nếu có nhiều hơn một sinh viên thì sắp xếp theo thứ tự alphabe\n",
    "Ví dụ: \n",
    "\n",
    "**Input**\n",
    "```\n",
    "5\n",
    "Harry\n",
    "37.21\n",
    "Berry\n",
    "37.21\n",
    "Tina\n",
    "37.2\n",
    "Akriti\n",
    "41\n",
    "Harsh\n",
    "39\n",
    "```\n",
    "**Output**\n",
    "```\n",
    "Berry\n",
    "Harry\n",
    "```"
   ]
  },
  {
   "cell_type": "code",
   "execution_count": 49,
   "metadata": {
    "collapsed": true
   },
   "outputs": [],
   "source": [
    "def find_second_lowest(students_list):\n",
    "    lowest_student = min(students_list, key=lambda x: x[1])\n",
    "    second_lowest_student =  min([student for student in students_list if student[1] != lowest_student[1]], key=lambda x: x[1])\n",
    "    sub_student = sorted([student[0] for student in students_list if student[1] == second_lowest_student[1]])\n",
    "    print('\\n'.join(sub_student))"
   ]
  },
  {
   "cell_type": "code",
   "execution_count": 50,
   "metadata": {},
   "outputs": [
    {
     "name": "stdout",
     "output_type": "stream",
     "text": [
      "Berry\n",
      "Harry\n"
     ]
    }
   ],
   "source": [
    "if __name__ == '__main__':\n",
    "    # students_list = []\n",
    "    # for _ in range(int(input())):\n",
    "    #     name = input()\n",
    "    #     score = float(input())\n",
    "    #     students_list.append([name, score])\n",
    "    students_list = [['Harry', 37.21], ['Berry', 37.21], ['Tina', 37.2], ['Akriti', 41], ['Harsh', 39]]\n",
    "    find_second_lowest(students_list)\n"
   ]
  },
  {
   "cell_type": "markdown",
   "metadata": {},
   "source": [
    "\n",
    "# [Ex2_6: Finding the percentage](https://www.hackerrank.com/challenges/finding-the-percentage/problem)\n",
    "\n",
    "Bạn có N bản ghi thông tin sinh viên. Mỗi bản ghi chứa thông tin tên của sinh viên, điểm tổng kết các môn: Toán, Vật lý, Hóa Học. Điểm ở định dạng float.\n",
    "Lưu các bản ghi trên vào một dictionary với dữ liệu {tên sinh viên, điểm trung bình 3 môn với 2 số thập phân}\n",
    "\n",
    "Ví dụ:\n",
    "**Input:**\n",
    "\n",
    "```\n",
    "3\n",
    "Krishna 67 68 69\n",
    "Arjun 70 98 63\n",
    "Malika 52 56 60\n",
    "Malika\n",
    "```\n",
    "\n",
    "**Output:**\n",
    "\n",
    "```\n",
    "56.00\n",
    "```\n"
   ]
  },
  {
   "cell_type": "code",
   "execution_count": 51,
   "metadata": {},
   "outputs": [
    {
     "name": "stdout",
     "output_type": "stream",
     "text": [
      "56.00\n"
     ]
    }
   ],
   "source": [
    "if __name__ == '__main__':\n",
    "    # n = int(input())\n",
    "    # student_marks = {}\n",
    "    # for _ in range(n):\n",
    "    #     name, *line = input().split()\n",
    "    #     scores = list(map(float, line))\n",
    "    #     student_marks[name] = scores\n",
    "    # query_name = input()\n",
    "    student_marks = {}\n",
    "    query_name = \"Malika\"\n",
    "    student_marks['Krishna'] = list(map(float, \"67 68 69\".split()))\n",
    "    student_marks['Arjun'] = list(map(float, \"70 98 63\".split()))\n",
    "    student_marks['Malika'] = list(map(float, \"52 56 60\".split()))\n",
    "    student_mark = sum(student_marks[query_name])/3\n",
    "    print(\"{0:.2f}\".format(student_mark))\n"
   ]
  }
 ],
 "metadata": {
  "kernelspec": {
   "display_name": "Python 3",
   "language": "python",
   "name": "python3"
  },
  "language_info": {
   "codemirror_mode": {
    "name": "ipython",
    "version": 3
   },
   "file_extension": ".py",
   "mimetype": "text/x-python",
   "name": "python",
   "nbconvert_exporter": "python",
   "pygments_lexer": "ipython3",
   "version": "3.6.3"
  }
 },
 "nbformat": 4,
 "nbformat_minor": 2
}
